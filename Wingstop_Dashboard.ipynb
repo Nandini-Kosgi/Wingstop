{
 "cells": [
  {
   "cell_type": "code",
   "execution_count": 1,
   "id": "6043cc82-b3a8-4f4d-95f8-ae73d9e7918b",
   "metadata": {},
   "outputs": [],
   "source": [
    "import streamlit as st\n",
    "import pandas as pd\n",
    "import seaborn as sns\n",
    "import matplotlib.pyplot as plt\n"
   ]
  },
  {
   "cell_type": "code",
   "execution_count": 2,
   "id": "0214c5ff-ad52-4ba1-b162-9fc75d788c91",
   "metadata": {},
   "outputs": [
    {
     "name": "stderr",
     "output_type": "stream",
     "text": [
      "2025-05-18 14:14:09.317 \n",
      "  \u001b[33m\u001b[1mWarning:\u001b[0m to view this Streamlit app on a browser, run it with the following\n",
      "  command:\n",
      "\n",
      "    streamlit run C:\\Users\\kosgi Nandini\\anaconda3\\Lib\\site-packages\\ipykernel_launcher.py [ARGUMENTS]\n"
     ]
    },
    {
     "data": {
      "text/plain": [
       "DeltaGenerator()"
      ]
     },
     "execution_count": 2,
     "metadata": {},
     "output_type": "execute_result"
    }
   ],
   "source": [
    "st.set_page_config(page_title=\"Wingstop Dashboard\", layout=\"wide\")\n",
    "st.title(\"🍗 Wingstop Orders Dashboard\")\n"
   ]
  },
  {
   "cell_type": "code",
   "execution_count": 3,
   "id": "65ceb5a1-aa30-450e-91d7-f5f700f57e2e",
   "metadata": {},
   "outputs": [],
   "source": [
    "# Load data\n",
    "df = pd.read_csv(\"wingstop_cleaned_data.csv\")\n"
   ]
  },
  {
   "cell_type": "code",
   "execution_count": 7,
   "id": "a06faab1-208d-4a07-b913-5904fcba9f82",
   "metadata": {},
   "outputs": [],
   "source": [
    "# Filters\n",
    "st.sidebar.header(\"Filter\")\n",
    "locations = [col for col in df.columns if col.startswith(\"location_\")]\n",
    "order_types = df['order_type'].unique() if 'order_type' in df.columns else []\n",
    "\n",
    "selected_locations = st.sidebar.multiselect(\"Select Locations\", locations, default=locations)\n",
    "if 'order_type' in df.columns:\n",
    "    selected_order_types = st.sidebar.multiselect(\"Select Order Types\", order_types, default=order_types)\n",
    "else:\n",
    "    selected_order_types = None\n",
    "\n",
    "# Filter logic\n",
    "filtered_df = df.copy()\n",
    "if selected_locations:\n",
    "    mask = df[selected_locations].any(axis=1)\n",
    "    filtered_df = filtered_df[mask]\n",
    "\n",
    "if selected_order_types:\n",
    "    filtered_df = filtered_df[filtered_df['order_type'].isin(selected_order_types)]\n",
    "\n"
   ]
  },
  {
   "cell_type": "code",
   "execution_count": 10,
   "id": "435dde2c-6f41-461c-a593-73503bb8054d",
   "metadata": {},
   "outputs": [
    {
     "data": {
      "text/plain": [
       "DeltaGenerator()"
      ]
     },
     "execution_count": 10,
     "metadata": {},
     "output_type": "execute_result"
    }
   ],
   "source": [
    "# KPIs\n",
    "col1, col2, col3 = st.columns(3)\n",
    "col1.metric(\"Total Orders\", len(filtered_df))\n",
    "col2.metric(\"Avg Order Value\", f\"${filtered_df['order_value_usd'].mean():.2f}\")\n",
    "col3.metric(\"Peak Hour\", filtered_df['order_hour'].mode()[0])\n"
   ]
  },
  {
   "cell_type": "code",
   "execution_count": 12,
   "id": "367ce48e-26f2-4b3d-a194-120b043b352f",
   "metadata": {},
   "outputs": [
    {
     "data": {
      "text/plain": [
       "DeltaGenerator()"
      ]
     },
     "execution_count": 12,
     "metadata": {},
     "output_type": "execute_result"
    }
   ],
   "source": [
    "# Plots\n",
    "st.subheader(\"📈 Orders by Hour\")\n",
    "fig, ax = plt.subplots()\n",
    "sns.countplot(x='order_hour', data=filtered_df, ax=ax)\n",
    "st.pyplot(fig)"
   ]
  },
  {
   "cell_type": "code",
   "execution_count": 14,
   "id": "a55f44a4-aff0-46ac-844b-fc7d228d004e",
   "metadata": {},
   "outputs": [
    {
     "data": {
      "text/plain": [
       "DeltaGenerator()"
      ]
     },
     "execution_count": 14,
     "metadata": {},
     "output_type": "execute_result"
    }
   ],
   "source": [
    "# Step 1: Reconstruct 'weekday' column from one-hot encoded columns\n",
    "weekday_cols = [col for col in df.columns if col.startswith('weekday_')]\n",
    "df['weekday'] = df[weekday_cols].idxmax(axis=1).str.replace('weekday_', '')\n",
    "\n",
    "# Step 2: Plot - Orders by Weekday\n",
    "import seaborn as sns\n",
    "import matplotlib.pyplot as plt\n",
    "import streamlit as st\n",
    "\n",
    "fig, ax = plt.subplots()\n",
    "sns.countplot(x='weekday', data=df, order=[\n",
    "    'Monday', 'Tuesday', 'Wednesday', 'Thursday', 'Saturday', 'Sunday'  # Include only your present one-hot columns\n",
    "], ax=ax)\n",
    "plt.xticks(rotation=45)\n",
    "plt.title(\"Orders by Weekday\")\n",
    "plt.xlabel(\"Weekday\")\n",
    "plt.ylabel(\"Order Count\")\n",
    "plt.tight_layout()\n",
    "st.pyplot(fig)\n"
   ]
  },
  {
   "cell_type": "code",
   "execution_count": 15,
   "id": "8d10c03d-07ef-430c-84e6-fed42fbb205d",
   "metadata": {},
   "outputs": [
    {
     "data": {
      "text/plain": [
       "DeltaGenerator()"
      ]
     },
     "execution_count": 15,
     "metadata": {},
     "output_type": "execute_result"
    }
   ],
   "source": [
    "st.subheader(\"💵 Order Value Distribution\")\n",
    "fig3, ax3 = plt.subplots()\n",
    "sns.histplot(filtered_df['order_value_usd'], bins=30, kde=True, ax=ax3)\n",
    "st.pyplot(fig3)"
   ]
  },
  {
   "cell_type": "code",
   "execution_count": null,
   "id": "f3d3e257-feeb-4466-a2f1-b9fac8beca04",
   "metadata": {},
   "outputs": [],
   "source": [
    "#streamlit run Wingstop_Dashboard.py\n",
    "\n",
    "#  You can now view your Streamlit app in your browser.\n",
    "\n",
    "# Local URL: http://localhost:8501\n",
    "#  Network URL: http://10.0.0.141:8501"
   ]
  }
 ],
 "metadata": {
  "kernelspec": {
   "display_name": "Python 3 (ipykernel)",
   "language": "python",
   "name": "python3"
  },
  "language_info": {
   "codemirror_mode": {
    "name": "ipython",
    "version": 3
   },
   "file_extension": ".py",
   "mimetype": "text/x-python",
   "name": "python",
   "nbconvert_exporter": "python",
   "pygments_lexer": "ipython3",
   "version": "3.12.7"
  }
 },
 "nbformat": 4,
 "nbformat_minor": 5
}
